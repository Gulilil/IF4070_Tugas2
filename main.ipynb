{
 "cells": [
  {
   "cell_type": "code",
   "execution_count": 1,
   "metadata": {},
   "outputs": [],
   "source": [
    "from node import Node\n",
    "from query import Query\n",
    "from rdr import RDR"
   ]
  },
  {
   "cell_type": "code",
   "execution_count": null,
   "metadata": {},
   "outputs": [
    {
     "name": "stdout",
     "output_type": "stream",
     "text": [
      "Welcome to the RDR system!\n",
      "You can enter queries in the following formats:\n",
      " - Ask: [CONDITIONS] ? (Example: A, B, C ?)\n",
      " - Add: [CONDITIONS] > [RESULT] (Example: A, B, C > D)\n",
      "[ERROR] Failed to parse query: [ERROR] Error in parsing the input  : \n",
      "[ERROR] Failed to parse query: [ERROR] Error in parsing the input  : \n",
      "[ERROR] Failed to parse query: [ERROR] Error in parsing the input  : \n",
      "Exiting the system. Goodbye!\n"
     ]
    }
   ],
   "source": [
    "def main():\n",
    "    rdr_system = RDR()\n",
    "\n",
    "    print(\"Welcome to the RDR system!\")\n",
    "    print(\"You can enter queries in the following formats:\")\n",
    "    print(\" - Ask: [CONDITIONS] ? (Example: A, B, C ?)\")\n",
    "    print(\" - Add: [CONDITIONS] > [RESULT] (Example: A, B, C > D)\")\n",
    "\n",
    "    while True:\n",
    "        try:\n",
    "            message = \"\"\"\n",
    "            type 'exit' to quit\\n\n",
    "            type 'print' to output the RDR structure\\n\n",
    "            Enter a query: \n",
    "            \"\"\"\n",
    "            user_input = input(message).strip()\n",
    "\n",
    "            if user_input.lower() == 'exit':\n",
    "                print(\"Exiting the system. Goodbye!\")\n",
    "                break\n",
    "            if user_input.lower() == 'print':\n",
    "                rdr_system.print_tree()\n",
    "                continue\n",
    "\n",
    "            try:\n",
    "                query = Query(user_input)\n",
    "            except ValueError as e:\n",
    "                print(f\"[ERROR] Failed to parse query: {e}\")\n",
    "                continue  # Skip to the next input attempt\n",
    "\n",
    "\n",
    "            if query.type == \"ask\":\n",
    "                result = rdr_system.execute_query(query)\n",
    "                print(f\"Result for query: {result}\")\n",
    "            elif query.type == \"add\":\n",
    "                rdr_system.execute_query(query)\n",
    "                print(f\"Rule added: {user_input}\")\n",
    "            else:\n",
    "                print(\"[ERROR] Invalid query type.\")\n",
    "\n",
    "        except KeyboardInterrupt:\n",
    "            print(\"\\nProcess interrupted. Exiting...\")\n",
    "            break\n",
    "\n",
    "# Start the main loop\n",
    "if __name__ == \"__main__\":\n",
    "    main()\n"
   ]
  }
 ],
 "metadata": {
  "kernelspec": {
   "display_name": "Python 3",
   "language": "python",
   "name": "python3"
  },
  "language_info": {
   "codemirror_mode": {
    "name": "ipython",
    "version": 3
   },
   "file_extension": ".py",
   "mimetype": "text/x-python",
   "name": "python",
   "nbconvert_exporter": "python",
   "pygments_lexer": "ipython3",
   "version": "3.10.0"
  }
 },
 "nbformat": 4,
 "nbformat_minor": 2
}
