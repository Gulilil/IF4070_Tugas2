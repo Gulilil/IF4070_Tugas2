{
 "cells": [
  {
   "cell_type": "code",
   "execution_count": 1,
   "metadata": {},
   "outputs": [],
   "source": [
    "from node import Node\n",
    "from query import Query\n",
    "from rdr import RDR"
   ]
  },
  {
   "cell_type": "code",
   "execution_count": 2,
   "metadata": {},
   "outputs": [
    {
     "name": "stdout",
     "output_type": "stream",
     "text": [
      "Welcome to the RDR system!\n",
      "You can enter queries in the following formats:\n",
      " - Ask: [CONDITIONS] ? (Example: A, B, C ?)\n",
      " - Add: [CONDITIONS] > [RESULT] (Example: A, B, C > D)\n",
      "\n",
      "Would you like to load an existing RDR tree or create a new one?\n",
      "1. Load existing tree\n",
      "2. Create new tree\n",
      "\n",
      "Loading tree from rdr_tree.txt\n",
      "\n",
      "Processing line: ['a'] -> a\n",
      "Current indent level: 0, Expected indent level: 0\n",
      "Node conditions: ['a'], Node result: a\n",
      "Parsing next node...\n",
      "Processing line:   |  |- next node: [] -> bb\n",
      "Current indent level: 2, Expected indent level: 2\n"
     ]
    },
    {
     "ename": "SyntaxError",
     "evalue": "invalid syntax (<string>, line 1)",
     "output_type": "error",
     "traceback": [
      "Traceback \u001b[1;36m(most recent call last)\u001b[0m:\n",
      "\u001b[0m  File \u001b[0;32m~\\AppData\\Roaming\\Python\\Python312\\site-packages\\IPython\\core\\interactiveshell.py:3577\u001b[0m in \u001b[0;35mrun_code\u001b[0m\n    exec(code_obj, self.user_global_ns, self.user_ns)\u001b[0m\n",
      "\u001b[0m  Cell \u001b[0;32mIn[2], line 65\u001b[0m\n    main()\u001b[0m\n",
      "\u001b[0m  Cell \u001b[0;32mIn[2], line 20\u001b[0m in \u001b[0;35mmain\u001b[0m\n    rdr_system.load_tree(\"rdr_tree\")\u001b[0m\n",
      "\u001b[0m  File \u001b[0;32md:\\JASON\\Kuliah\\Matkul\\Semester 7\\Representasi Pengetahuan dan Penalaran\\IF4070_Tugas2\\rdr.py:60\u001b[0m in \u001b[0;35mload_tree\u001b[0m\n    self.tree = self._load_subtree(lines, 0)[0]\u001b[0m\n",
      "\u001b[0m  File \u001b[0;32md:\\JASON\\Kuliah\\Matkul\\Semester 7\\Representasi Pengetahuan dan Penalaran\\IF4070_Tugas2\\rdr.py:99\u001b[0m in \u001b[0;35m_load_subtree\u001b[0m\n    child_node, offset = self._load_subtree(lines[i + 1:], indent_level + 2)\u001b[0m\n",
      "\u001b[1;36m  File \u001b[1;32md:\\JASON\\Kuliah\\Matkul\\Semester 7\\Representasi Pengetahuan dan Penalaran\\IF4070_Tugas2\\rdr.py:85\u001b[1;36m in \u001b[1;35m_load_subtree\u001b[1;36m\n\u001b[1;33m    conditions = eval(conditions.strip())  # Safely convert string representation of list to actual list\u001b[1;36m\n",
      "\u001b[1;36m  File \u001b[1;32m<string>:1\u001b[1;36m\u001b[0m\n\u001b[1;33m    |  |- next node: []\u001b[0m\n\u001b[1;37m    ^\u001b[0m\n\u001b[1;31mSyntaxError\u001b[0m\u001b[1;31m:\u001b[0m invalid syntax\n"
     ]
    }
   ],
   "source": [
    "def main():\n",
    "    rdr_system = RDR()\n",
    "\n",
    "    print(\"Welcome to the RDR system!\")\n",
    "    print(\"You can enter queries in the following formats:\")\n",
    "    print(\" - Ask: [CONDITIONS] ? (Example: A, B, C ?)\")\n",
    "    print(\" - Add: [CONDITIONS] > [RESULT] (Example: A, B, C > D)\\n\")\n",
    "    \n",
    "    # Add a message to prompt the user to load or create a new tree\n",
    "    print(\"Would you like to load an existing RDR tree or create a new one?\")\n",
    "    print(\"1. Load existing tree\")\n",
    "    print(\"2. Create new tree\")\n",
    "    input_option = input(\"Enter load or create option: \").strip()\n",
    "    \n",
    "    while input_option.lower() not in [\"load\", \"create\"]:\n",
    "        print(\"\\nInvalid option. Please enter 'load' or 'create'.\")\n",
    "        input_option = input(\"Enter load or create option: \").strip()\n",
    "    \n",
    "    if input_option == \"load\":\n",
    "        rdr_system.load_tree(\"rdr_tree\")\n",
    "    elif input_option == \"create\":\n",
    "        pass\n",
    "\n",
    "    while True:\n",
    "        try:\n",
    "            message = \"\"\"\n",
    "            type 'exit' to quit\\n\n",
    "            type 'print' to output the RDR structure\\n\n",
    "            type 'save' to save the RDR structure\\n\n",
    "            Enter a query: \n",
    "            \"\"\"\n",
    "            user_input = input(message).strip()\n",
    "\n",
    "            if user_input.lower() == 'exit':\n",
    "                print(\"Exiting the system. Goodbye!\")\n",
    "                break\n",
    "            if user_input.lower() == 'print':\n",
    "                rdr_system.print_tree()\n",
    "                continue\n",
    "            if user_input.lower() == 'save':\n",
    "                rdr_system.save_tree(\"rdr_tree\")\n",
    "                continue\n",
    "            try:\n",
    "                query = Query(user_input)\n",
    "            except ValueError as e:\n",
    "                print(f\"[ERROR] Failed to parse query: {e}\")\n",
    "                continue  # Skip to the next input attempt\n",
    "\n",
    "            if query.type == \"ask\":\n",
    "                result = rdr_system.execute_query(query)\n",
    "                print(f\"Result for query: {result}\")\n",
    "            elif query.type == \"add\":\n",
    "                rdr_system.execute_query(query)\n",
    "                print(f\"Rule added: {user_input}\")\n",
    "            else:\n",
    "                print(\"[ERROR] Invalid query type.\")\n",
    "\n",
    "\n",
    "        except KeyboardInterrupt:\n",
    "            print(\"\\nProcess interrupted. Exiting...\")\n",
    "            break\n",
    "\n",
    "# Start the main loop\n",
    "if __name__ == \"__main__\":\n",
    "    main()"
   ]
  }
 ],
 "metadata": {
  "kernelspec": {
   "display_name": "Python 3",
   "language": "python",
   "name": "python3"
  },
  "language_info": {
   "codemirror_mode": {
    "name": "ipython",
    "version": 3
   },
   "file_extension": ".py",
   "mimetype": "text/x-python",
   "name": "python",
   "nbconvert_exporter": "python",
   "pygments_lexer": "ipython3",
   "version": "3.12.3"
  }
 },
 "nbformat": 4,
 "nbformat_minor": 2
}
