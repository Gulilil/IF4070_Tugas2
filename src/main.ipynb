{
 "cells": [
  {
   "cell_type": "code",
   "execution_count": 1,
   "metadata": {},
   "outputs": [],
   "source": [
    "from query import Query\n",
    "from rdr import RDR"
   ]
  },
  {
   "cell_type": "code",
   "execution_count": 4,
   "metadata": {},
   "outputs": [
    {
     "name": "stdout",
     "output_type": "stream",
     "text": [
      "Welcome to the RDR system!\n",
      "You can enter queries in the following formats:\n",
      " - Ask: [CONDITIONS] ? (Example: A, B, C ?)\n",
      " - Add: [CONDITIONS] > [RESULT] (Example: A, B, C > D)\n",
      "\n",
      "Would you like to load an existing RDR tree or create a new one?\n",
      "1. Load existing tree\n",
      "2. Create new tree\n",
      "Exiting the system. Goodbye!\n"
     ]
    }
   ],
   "source": [
    "def main():\n",
    "    rdr_system = RDR()\n",
    "\n",
    "    print(\"Welcome to the RDR system!\")\n",
    "    print(\"You can enter queries in the following formats:\")\n",
    "    print(\" - Ask: [CONDITIONS] ? (Example: A, B, C ?)\")\n",
    "    print(\" - Add: [CONDITIONS] > [RESULT] (Example: A, B, C > D)\\n\")\n",
    "    \n",
    "    # Add a message to prompt the user to load or create a new tree\n",
    "    print(\"Would you like to load an existing RDR tree or create a new one?\")\n",
    "    print(\"1. Load existing tree\")\n",
    "    print(\"2. Create new tree\")\n",
    "    input_option = input(\"Enter load or create option: \").strip()\n",
    "    \n",
    "    while input_option.lower() not in [\"load\", \"create\"]:\n",
    "        print(\"\\nInvalid option. Please enter 'load' or 'create'.\")\n",
    "        input_option = input(\"Enter load or create option: \").strip()\n",
    "    \n",
    "    if input_option == \"load\":\n",
    "        file_type = input(\"Enter the file type (txt or json): \").strip()\n",
    "        if file_type == \"txt\":\n",
    "            rdr_system.load_txt_tree()\n",
    "        elif file_type == \"json\":\n",
    "            rdr_system.load_json_tree()\n",
    "    elif input_option == \"create\":\n",
    "        pass\n",
    "\n",
    "    while True:\n",
    "        try:\n",
    "            message = \"\"\"\n",
    "            type 'exit' to quit\\n\n",
    "            type 'print' to output the RDR structure\\n\n",
    "            type 'save' to save the RDR structure\\n\n",
    "            Enter a query: \n",
    "            \"\"\"\n",
    "            user_input = input(message).strip()\n",
    "\n",
    "            if user_input.lower() == 'exit':\n",
    "                print(\"Exiting the system. Goodbye!\")\n",
    "                break\n",
    "            if user_input.lower() == 'print':\n",
    "                rdr_system.print_tree()\n",
    "                continue\n",
    "            if user_input.lower() == 'save':\n",
    "                filename = input(\"Enter the file name to save: \").strip()\n",
    "                rdr_system.save_txt_tree(filename)\n",
    "                rdr_system.save_json_tree(filename)\n",
    "                continue\n",
    "            try:\n",
    "                query = Query(user_input)\n",
    "            except ValueError as e:\n",
    "                print(f\"[ERROR] Failed to parse query: {e}\")\n",
    "                continue  # Skip to tsshe next input attempt\n",
    "\n",
    "            if query.type == \"ask\":\n",
    "                result = rdr_system.execute_query(query)\n",
    "                print(f\"Result for query: {result}\")\n",
    "            elif query.type == \"add\":\n",
    "                rdr_system.execute_query(query)\n",
    "                print(f\"Rule added: {user_input}\")\n",
    "            else:\n",
    "                print(\"[ERROR] Invalid query type.\")\n",
    "\n",
    "\n",
    "        except KeyboardInterrupt:\n",
    "            print(\"\\nProcess interrupted. Exiting...\")\n",
    "            break\n",
    "\n",
    "# Start the main loop\n",
    "if __name__ == \"__main__\":\n",
    "    main()"
   ]
  },
  {
   "cell_type": "code",
   "execution_count": null,
   "metadata": {},
   "outputs": [],
   "source": []
  }
 ],
 "metadata": {
  "kernelspec": {
   "display_name": "Python 3",
   "language": "python",
   "name": "python3"
  },
  "language_info": {
   "codemirror_mode": {
    "name": "ipython",
    "version": 3
   },
   "file_extension": ".py",
   "mimetype": "text/x-python",
   "name": "python",
   "nbconvert_exporter": "python",
   "pygments_lexer": "ipython3",
   "version": "3.11.3"
  }
 },
 "nbformat": 4,
 "nbformat_minor": 2
}
